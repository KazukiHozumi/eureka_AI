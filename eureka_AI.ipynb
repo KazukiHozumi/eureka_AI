{
 "cells": [
  {
   "cell_type": "code",
   "execution_count": 225,
   "metadata": {},
   "outputs": [
    {
     "name": "stdout",
     "output_type": "stream",
     "text": [
      "rm: akuta/in.csv: No such file or directory\r\n"
     ]
    }
   ],
   "source": [
    "# それぞれの作者ごとに１つのファイルにまとめる。\n",
    "!rm akuta/in.csv\n",
    "!cat akuta/* > akuta/in.csv\n",
    "\n",
    "!rm izumi/in.csv\n",
    "!cat izumi/* > izumi/in.csv"
   ]
  },
  {
   "cell_type": "code",
   "execution_count": 226,
   "metadata": {},
   "outputs": [
    {
     "name": "stdout",
     "output_type": "stream",
     "text": [
      "rm: out.csv: No such file or directory\r\n"
     ]
    }
   ],
   "source": [
    "# 初期準備(空のファイルout.csvを作っておく)\n",
    "!rm out.csv\n",
    "!touch out.csv"
   ]
  },
  {
   "cell_type": "code",
   "execution_count": 227,
   "metadata": {},
   "outputs": [],
   "source": [
    "# 引数で指定したファイルの中から名詞を取り出す関数\n",
    "import re\n",
    "import numpy as np\n",
    "import pyprind\n",
    "import pandas as pd\n",
    "import os\n",
    "from gensim import corpora\n",
    "from sklearn.feature_extraction.text import CountVectorizer\n",
    "from sklearn.feature_extraction.text import TfidfTransformer\n",
    "from sklearn.model_selection import train_test_split\n",
    "from sklearn.metrics import accuracy_score, precision_score, recall_score\n",
    "from sklearn.metrics import confusion_matrix\n",
    "from sklearn.ensemble import RandomForestClassifier\n",
    "from matplotlib import pyplot\n",
    "\n",
    "def createNone(in_name):\n",
    "    words = \"\"\n",
    "    data_count = 0\n",
    "    with open(\"out.csv\") as f:\n",
    "        lines = f.readlines()\n",
    "    with open(\"out.csv\", \"w\") as f_out:\n",
    "        for line in lines:\n",
    "            f_out.write(\"{}\\n\".format(line[:-1]))\n",
    "        with open(\"{}\".format(in_name)) as f_in:        \n",
    "            line = f_in.readline()\n",
    "            html_row_line = re.match(\"([^,]*),([^,]*)\", line)\n",
    "            html = html_row_line.group(1)\n",
    "            row = html_row_line.group(2)\n",
    "            while line:\n",
    "                search_line = re.match(\"([^,]*,){3}([^,]*),([^,]*)\", line)\n",
    "                if search_line is not None:\n",
    "                    if search_line.group(3) == \"名詞\" or search_line.group(3) == \"動詞\":\n",
    "                        words += \" \" + search_line.group(2)\n",
    "                line = f_in.readline()\n",
    "                html_row_line = re.match(\"([^,]*),([^,]*)\", line)\n",
    "                if html_row_line is None:\n",
    "                    f_out.write(\"{}\\n\".format(words))\n",
    "                    data_count+=1\n",
    "                    break\n",
    "                if html_row_line.group(1) != html:\n",
    "                    f_out.write(\"{}\\n\".format(words))\n",
    "                    words = \"\"\n",
    "                    data_count+=1\n",
    "                    html = html_row_line.group(1)\n",
    "    return data_count\n",
    "    "
   ]
  },
  {
   "cell_type": "code",
   "execution_count": 228,
   "metadata": {},
   "outputs": [
    {
     "name": "stdout",
     "output_type": "stream",
     "text": [
      "[0, 0, 0, 0, 0, 0, 0, 0, 0, 0, 0, 0, 0, 0, 0, 0, 0, 0, 0, 0, 0, 0, 0, 0, 0, 0, 0, 0, 0, 0, 0, 0, 0, 0, 0, 0, 0, 0, 0, 0, 0, 0, 0, 0, 0, 0, 0, 0, 0, 0, 0, 0, 0, 0, 0, 0, 0, 0, 0, 0, 0, 0, 0, 0, 0, 0, 0, 0, 0, 0, 0, 0, 0, 0, 0, 0, 0, 0, 0, 0, 0, 0, 0, 0, 0, 0, 0, 0, 0, 0, 0, 0, 0, 0, 0, 0, 0, 0, 0, 0, 0, 0, 0, 0, 0, 0, 0, 0, 0, 0, 0, 0, 0, 0, 0, 0, 0, 0, 0, 0, 0, 0, 0, 0, 0, 0, 0, 0, 0, 0, 0, 0, 0, 0, 0, 0, 0, 0, 0, 0, 0, 0, 0, 0, 0, 0, 0, 0, 0, 0, 0, 0, 0, 0, 0, 0, 0, 0, 0, 0, 0, 0, 0, 0, 0, 0, 0, 0, 0, 0, 0, 0, 0, 0, 0, 0, 0, 0, 0, 0, 0, 0, 0, 0, 0, 0, 0, 0, 0, 0, 0, 0, 0, 0, 0, 0, 0, 0, 0, 0, 1, 1, 1, 1, 1, 1, 1, 1, 1, 1, 1, 1, 1, 1, 1, 1, 1, 1, 1, 1, 1, 1, 1, 1, 1, 1, 1, 1, 1, 1, 1, 1, 1, 1, 1, 1, 1, 1, 1, 1, 1, 1, 1, 1, 1, 1, 1, 1, 1, 1, 1, 1, 1, 1, 1, 1, 1, 1, 1, 1, 1, 1, 1, 1, 1, 1, 1, 1, 1, 1, 1, 1, 1, 1, 1, 1, 1, 1, 1, 1, 1, 1, 1, 1, 1, 1, 1, 1, 1, 1, 1, 1, 1, 1, 1, 1, 1, 1, 1, 1, 1, 1, 1, 1, 1, 1, 1, 1, 1, 1, 1, 1, 1, 1, 1, 1, 1, 1, 1, 1, 1, 1, 1, 1, 1, 1, 1, 1, 1, 1, 1, 1, 1, 1, 1, 1, 1, 1, 1, 1, 1, 1, 1, 1, 1, 1, 1, 1, 1, 1, 1, 1, 1, 1, 1, 1, 1, 1, 1, 1, 1, 1, 1, 1, 1, 1, 1, 1, 1, 1]\n"
     ]
    }
   ],
   "source": [
    "# ファイルから名詞を取り出すと同時に、学習用のラベルを作る。\n",
    "label_train = []\n",
    "\n",
    "for n in range(createNone(\"akuta/in.csv\")):\n",
    "    label_train.append(0)\n",
    "\n",
    "for n in range(createNone(\"izumi/in.csv\")):\n",
    "    label_train.append(1)\n",
    "\n",
    "print(label_train)"
   ]
  },
  {
   "cell_type": "code",
   "execution_count": 236,
   "metadata": {},
   "outputs": [],
   "source": [
    "# 名詞を特徴ベクトルに変換 (BoW)\n",
    "count = CountVectorizer() \n",
    "with open(\"out.csv\") as f:\n",
    "    lines = f.readlines()\n",
    "    bag = count.fit_transform(lines)"
   ]
  },
  {
   "cell_type": "code",
   "execution_count": 230,
   "metadata": {},
   "outputs": [],
   "source": [
    "# 単語の関連性を評価(TF-IDF)\n",
    "np.set_printoptions(precision=2)\n",
    "from sklearn.feature_extraction.text import TfidfTransformer\n",
    "tfidf = TfidfTransformer(use_idf=True, norm='l2', smooth_idf=True)\n",
    "data_train = tfidf.fit_transform(count.fit_transform(lines)).toarray()\n"
   ]
  },
  {
   "cell_type": "code",
   "execution_count": 231,
   "metadata": {},
   "outputs": [
    {
     "data": {
      "text/plain": [
       "RandomForestClassifier(bootstrap=True, class_weight=None, criterion='gini',\n",
       "            max_depth=None, max_features='auto', max_leaf_nodes=None,\n",
       "            min_impurity_decrease=0.0, min_impurity_split=None,\n",
       "            min_samples_leaf=1, min_samples_split=2,\n",
       "            min_weight_fraction_leaf=0.0, n_estimators=10, n_jobs=1,\n",
       "            oob_score=False, random_state=None, verbose=0,\n",
       "            warm_start=False)"
      ]
     },
     "execution_count": 231,
     "metadata": {},
     "output_type": "execute_result"
    }
   ],
   "source": [
    "# 学習\n",
    "estimator = RandomForestClassifier(n_estimators=10)\n",
    "estimator.fit(data_train, label_train)\n"
   ]
  },
  {
   "cell_type": "code",
   "execution_count": 232,
   "metadata": {},
   "outputs": [
    {
     "name": "stdout",
     "output_type": "stream",
     "text": [
      "[0 0 0 0 0 0 0 0 0 0 0 0 0 0 0 0 0 0 0 0 0 0 0 0 0 0 0 0 0 0 0 0 0 0 0 0 0\n",
      " 0 0 0 0 0 0 0 0 0 0 0 0 0 0 0 0 0 0 0 0 0 0 0 0 0 0 0 0 0 0 0 0 0 0 0 0 0\n",
      " 0 0 0 0 0 0 0 0 0 0 0 0 0 0 0 0 0 0 0 0 0 0 0 0 0 0 0 0 0 0 0 0 0 0 0 0 0\n",
      " 0 0 0 0 0 0 0 0 0 0 0 0 0 0 0 0 0 0 0 0 0 0 0 0 0 0 0 0 0 0 0 0 0 0 0 0 0\n",
      " 0 0 0 0 0 0 0 0 0 0 0 0 0 0 0 0 0 0 0 0 0 0 0 0 0 0 0 0 0 0 0 0 0 0 0 0 0\n",
      " 0 0 0 0 0 0 0 0 0 0 0 0 0 0 0 1 1 1 1 1 1 1 1 1 1 1 1 1 1 1 1 1 1 1 1 1 1\n",
      " 1 1 1 1 1 1 1 1 1 0 1 1 1 1 1 1 1 1 1 1 1 1 1 1 1 1 1 1 1 1 1 1 1 1 1 1 1\n",
      " 1 1 1 1 1 1 1 1 1 1 1 1 0 1 1 1 1 1 1 1 1 1 1 1 1 1 1 1 1 1 1 1 1 1 1 1 1\n",
      " 1 1 1 1 1 1 1 1 1 1 1 1 1 1 1 1 1 1 1 1 1 1 1 1 1 1 1 1 1 1 1 1 1 1 1 1 1\n",
      " 1 1 1 1 1 1 1 1 1 1 1 1 1 1 1 1 1 1 1 1 1 1 1 1 1 1 1 1 1 1 1 1 1 1 1 1 1]\n"
     ]
    }
   ],
   "source": [
    "# 元データを入れて試してみる\n",
    "label_predict = estimator.predict(data_train)\n",
    "print(label_predict)"
   ]
  },
  {
   "cell_type": "code",
   "execution_count": 233,
   "metadata": {},
   "outputs": [
    {
     "name": "stdout",
     "output_type": "stream",
     "text": [
      "0.9945945945945946\n"
     ]
    }
   ],
   "source": [
    "print(estimator.score(data_train, label_train))"
   ]
  },
  {
   "cell_type": "code",
   "execution_count": 234,
   "metadata": {},
   "outputs": [
    {
     "name": "stdout",
     "output_type": "stream",
     "text": [
      "0.9054054054054054\n"
     ]
    }
   ],
   "source": [
    "# 6割を学習用、 4割を試験用にする\n",
    "data_train_s, data_test_s, label_train_s, label_test_s = train_test_split(data_train, label_train, test_size=0.4)\n",
    "\n",
    "# 学習用に切り出したやつだけで学習\n",
    "estimator.fit(data_train_s, label_train_s)\n",
    "\n",
    "# 予測。正解が分かってる場合は、predict関数じゃなくてこうやると、正解率出してくれる\n",
    "print(estimator.score(data_test_s, label_test_s))"
   ]
  },
  {
   "cell_type": "code",
   "execution_count": null,
   "metadata": {},
   "outputs": [],
   "source": []
  },
  {
   "cell_type": "code",
   "execution_count": null,
   "metadata": {},
   "outputs": [],
   "source": []
  },
  {
   "cell_type": "code",
   "execution_count": 179,
   "metadata": {},
   "outputs": [
    {
     "name": "stdout",
     "output_type": "stream",
     "text": [
      "混同行列(confusion matrix)\n",
      "[[77  0]\n",
      " [11 60]]\n"
     ]
    }
   ],
   "source": [
    "print(\"混同行列(confusion matrix)\")\n",
    "print(confusion_matrix(label_test_s, estimator.predict(data_test_s)))\n",
    "[[TP, FN],[FP, TN]] = confusion_matrix(label_test_s, estimator.predict(data_test_s))\n"
   ]
  },
  {
   "cell_type": "code",
   "execution_count": 222,
   "metadata": {},
   "outputs": [
    {
     "name": "stdout",
     "output_type": "stream",
     "text": [
      "正解率 (Accuracy) 0.9256756756756757 \n",
      "\tデータを正しく分類できた割合。\n",
      "\n",
      "不正解率 (Error rate) 0.07432432432432434 \n",
      "\tデータを正しく分類できなかった割合。\n",
      "\n",
      "芥川に対する適合率/精度 (Precision) 0.875 \n",
      "\t見つけたもののうち、それが本当に欲しいものである割合。\n",
      "\n",
      "芥川に対する検出率 (Recall) 1.0 \n",
      "\t見つけるべきもののうち、正しく見つけることができた割合。\n",
      "\n",
      "芥川に対する特異度 (Specificity) 0.8450704225352113 \n",
      "\tアラートしてはいけないもののうち、きちんと黙っていられた割合。\n",
      "\n",
      "芥川に対する偽陽性率 (False positive rate) 0.15492957746478872 \n",
      "\tアラートしてはいけないもののうち、アラートを出してしまったものの割合。\n",
      "\n",
      "芥川に対する偽陰性率 (False negative rate) 0.0 \n",
      "\tアラートすべきもののうち、アラートできなかったものの割合。\n",
      "\n"
     ]
    }
   ],
   "source": [
    "accuracy = (TP+TN)/(TP+FP+FN+TN)\n",
    "error_rate = 1 - accuracy\n",
    "precision = TP/(TP+FP)\n",
    "recall = TP/(TP+FN)\n",
    "specificity = TN/(TN+FP)\n",
    "false_positive_rate = FP/(TN+FP)\n",
    "false_negative_rate = FN/(TP+FN)\n",
    "\n",
    "print(\"正解率 (Accuracy)\", accuracy, \"\\n\\tデータを正しく分類できた割合。\\n\")\n",
    "print(\"不正解率 (Error rate)\", error_rate, \"\\n\\tデータを正しく分類できなかった割合。\\n\")\n",
    "print(\"芥川に対する適合率/精度 (Precision)\", precision, \"\\n\\t見つけたもののうち、それが本当に欲しいものである割合。\\n\")\n",
    "print(\"芥川に対する検出率 (Recall)\", recall, \"\\n\\t見つけるべきもののうち、正しく見つけることができた割合。\\n\")\n",
    "print(\"芥川に対する特異度 (Specificity)\", specificity, \"\\n\\tアラートしてはいけないもののうち、きちんと黙っていられた割合。\\n\")\n",
    "print(\"芥川に対する偽陽性率 (False positive rate)\", false_positive_rate, \"\\n\\tアラートしてはいけないもののうち、アラートを出してしまったものの割合。\\n\")\n",
    "print(\"芥川に対する偽陰性率 (False negative rate)\", false_negative_rate, \"\\n\\tアラートすべきもののうち、アラートできなかったものの割合。\\n\")\n",
    "      "
   ]
  },
  {
   "cell_type": "code",
   "execution_count": null,
   "metadata": {},
   "outputs": [],
   "source": []
  },
  {
   "cell_type": "code",
   "execution_count": null,
   "metadata": {},
   "outputs": [],
   "source": []
  },
  {
   "cell_type": "code",
   "execution_count": 221,
   "metadata": {},
   "outputs": [
    {
     "data": {
      "image/png": "[encoded data removed]",
      "text/plain": [
       "<Figure size 432x288 with 1 Axes>"
      ]
     },
     "metadata": {
      "needs_background": "light"
     },
     "output_type": "display_data"
    }
   ],
   "source": [
    "# パラメータ(決定木の個数)を変えて学習させる\n",
    "for n_e in range(100):\n",
    "    estimator = RandomForestClassifier(n_estimators=n_e+1)\n",
    "    sum = 0.0\n",
    "    for n in range(10):\n",
    "        data_train_s, data_test_s, label_train_s, label_test_s = train_test_split(data_train, label_train, test_size=0.4)\n",
    "        estimator.fit(data_train_s, label_train_s)\n",
    "        sum += estimator.score(data_test_s, label_test_s)\n",
    "    pyplot.scatter(n_e+1, sum/100)\n"
   ]
  },
  {
   "cell_type": "code",
   "execution_count": 223,
   "metadata": {},
   "outputs": [
    {
     "data": {
      "image/png": "[encoded data removed]",
      "text/plain": [
       "<Figure size 432x288 with 1 Axes>"
      ]
     },
     "metadata": {
      "needs_background": "light"
     },
     "output_type": "display_data"
    }
   ],
   "source": [
    "# パラメータ(決定木の個数)を変えて学習させる\n",
    "for n_e in range(100):\n",
    "    estimator = RandomForestClassifier(n_estimators=n_e+1)\n",
    "    sum = 0.0\n",
    "    for n in range(100):\n",
    "        data_train_s, data_test_s, label_train_s, label_test_s = train_test_split(data_train, label_train, test_size=0.4)\n",
    "        estimator.fit(data_train_s, label_train_s)\n",
    "        sum += estimator.score(data_test_s, label_test_s)\n",
    "    pyplot.scatter(n_e+1, sum/100)\n",
    "\n"
   ]
  },
  {
   "cell_type": "code",
   "execution_count": null,
   "metadata": {},
   "outputs": [],
   "source": []
  },
  {
   "cell_type": "code",
   "execution_count": null,
   "metadata": {},
   "outputs": [],
   "source": []
  },
  {
   "cell_type": "code",
   "execution_count": 281,
   "metadata": {},
   "outputs": [
    {
     "name": "stdout",
     "output_type": "stream",
     "text": [
      "rm: toyosima/in.csv: No such file or directory\r\n"
     ]
    }
   ],
   "source": [
    "# それぞれの作者ごとに１つのファイルにまとめる。\n",
    "!rm akuta/in.csv\n",
    "!cat akuta/* > akuta/in.csv\n",
    "\n",
    "!rm izumi/in.csv\n",
    "!cat izumi/* > izumi/in.csv\n",
    "\n",
    "!rm umino/in.csv\n",
    "!cat umino/* > umino/in.csv\n",
    "\n",
    "!rm kisida/in.csv\n",
    "!cat kisida/* > kisida/in.csv\n",
    "\n",
    "!rm toyosima/in.csv\n",
    "!cat toyosima/* > toyosima/in.csv"
   ]
  },
  {
   "cell_type": "code",
   "execution_count": 282,
   "metadata": {},
   "outputs": [],
   "source": [
    "# 初期準備(空のファイルout.csvを作っておく)\n",
    "!rm out.csv\n",
    "!touch out.csv"
   ]
  },
  {
   "cell_type": "code",
   "execution_count": 283,
   "metadata": {},
   "outputs": [],
   "source": [
    "# 引数で指定したファイルの中から名詞を取り出す関数\n",
    "import re\n",
    "import numpy as np\n",
    "import pyprind\n",
    "import pandas as pd\n",
    "import os\n",
    "from gensim import corpora\n",
    "from sklearn.feature_extraction.text import CountVectorizer\n",
    "from sklearn.feature_extraction.text import TfidfTransformer\n",
    "from sklearn.model_selection import train_test_split\n",
    "from sklearn.metrics import accuracy_score, precision_score, recall_score\n",
    "from sklearn.metrics import confusion_matrix\n",
    "from sklearn.ensemble import RandomForestClassifier\n",
    "from matplotlib import pyplot\n",
    "\n",
    "def createNone(in_name):\n",
    "    words = \"\"\n",
    "    data_count = 0\n",
    "    with open(\"out.csv\") as f:\n",
    "        lines = f.readlines()\n",
    "    with open(\"out.csv\", \"w\") as f_out:\n",
    "        for line in lines:\n",
    "            f_out.write(\"{}\\n\".format(line[:-1]))\n",
    "        with open(\"{}\".format(in_name)) as f_in:        \n",
    "            line = f_in.readline()\n",
    "            html_row_line = re.match(\"([^,]*),([^,]*)\", line)\n",
    "            html = html_row_line.group(1)\n",
    "            row = html_row_line.group(2)\n",
    "            while line:\n",
    "                search_line = re.match(\"([^,]*,){3}([^,]*),([^,]*)\", line)\n",
    "                if search_line is not None:\n",
    "                    if search_line.group(3) == \"名詞\" or search_line.group(3) == \"動詞\":\n",
    "                        words += \" \" + search_line.group(2)\n",
    "                line = f_in.readline()\n",
    "                html_row_line = re.match(\"([^,]*),([^,]*)\", line)\n",
    "                if html_row_line is None:\n",
    "                    f_out.write(\"{}\\n\".format(words))\n",
    "                    data_count+=1\n",
    "                    break\n",
    "                if html_row_line.group(1) != html:\n",
    "                    f_out.write(\"{}\\n\".format(words))\n",
    "                    words = \"\"\n",
    "                    data_count+=1\n",
    "                    html = html_row_line.group(1)\n",
    "    return data_count\n",
    "    "
   ]
  },
  {
   "cell_type": "code",
   "execution_count": 284,
   "metadata": {},
   "outputs": [
    {
     "name": "stdout",
     "output_type": "stream",
     "text": [
      "[0, 0, 0, 0, 0, 0, 0, 0, 0, 0, 0, 0, 0, 0, 0, 0, 0, 0, 0, 0, 0, 0, 0, 0, 0, 0, 0, 0, 0, 0, 0, 0, 0, 0, 0, 0, 0, 0, 0, 0, 0, 0, 0, 0, 0, 0, 0, 0, 0, 0, 0, 0, 0, 0, 0, 0, 0, 0, 0, 0, 0, 0, 0, 0, 0, 0, 0, 0, 0, 0, 0, 0, 0, 0, 0, 0, 0, 0, 0, 0, 0, 0, 0, 0, 0, 0, 0, 0, 0, 0, 0, 0, 0, 0, 0, 0, 0, 0, 0, 0, 0, 0, 0, 0, 0, 0, 0, 0, 0, 0, 0, 0, 0, 0, 0, 0, 0, 0, 0, 0, 0, 0, 0, 0, 0, 0, 0, 0, 0, 0, 0, 0, 0, 0, 0, 0, 0, 0, 0, 0, 0, 0, 0, 0, 0, 0, 0, 0, 0, 0, 0, 0, 0, 0, 0, 0, 0, 0, 0, 0, 0, 0, 0, 0, 0, 0, 0, 0, 0, 0, 0, 0, 0, 0, 0, 0, 0, 0, 0, 0, 0, 0, 0, 0, 0, 0, 0, 0, 0, 0, 0, 0, 0, 0, 0, 0, 0, 0, 0, 0, 1, 1, 1, 1, 1, 1, 1, 1, 1, 1, 1, 1, 1, 1, 1, 1, 1, 1, 1, 1, 1, 1, 1, 1, 1, 1, 1, 1, 1, 1, 1, 1, 1, 1, 1, 1, 1, 1, 1, 1, 1, 1, 1, 1, 1, 1, 1, 1, 1, 1, 1, 1, 1, 1, 1, 1, 1, 1, 1, 1, 1, 1, 1, 1, 1, 1, 1, 1, 1, 1, 1, 1, 1, 1, 1, 1, 1, 1, 1, 1, 1, 1, 1, 1, 1, 1, 1, 1, 1, 1, 1, 1, 1, 1, 1, 1, 1, 1, 1, 1, 1, 1, 1, 1, 1, 1, 1, 1, 1, 1, 1, 1, 1, 1, 1, 1, 1, 1, 1, 1, 1, 1, 1, 1, 1, 1, 1, 1, 1, 1, 1, 1, 1, 1, 1, 1, 1, 1, 1, 1, 1, 1, 1, 1, 1, 1, 1, 1, 1, 1, 1, 1, 1, 1, 1, 1, 1, 1, 1, 1, 1, 1, 1, 1, 1, 1, 1, 1, 1, 1, 2, 2, 2, 2, 2, 2, 2, 2, 2, 2, 2, 2, 2, 2, 2, 2, 2, 2, 2, 2, 2, 2, 2, 2, 2, 2, 2, 2, 2, 2, 2, 2, 2, 2, 2, 2, 2, 2, 2, 2, 2, 2, 2, 2, 2, 2, 2, 2, 2, 2, 2, 2, 2, 2, 2, 2, 2, 2, 2, 2, 2, 2, 2, 2, 2, 2, 2, 2, 2, 2, 2, 2, 2, 2, 2, 2, 2, 2, 2, 2, 2, 2, 2, 2, 2, 2, 2, 2, 2, 2, 2, 2, 2, 2, 2, 2, 2, 2, 2, 2, 2, 2, 2, 2, 2, 2, 2, 2, 2, 2, 2, 2, 2, 2, 2, 2, 2, 2, 2, 2, 2, 2, 2, 2, 2, 2, 2, 2, 2, 2, 2, 2, 2, 2, 2, 2, 2, 2, 2, 2, 2, 2, 2, 2, 2, 2, 2, 2, 2, 2, 2, 2, 2, 2, 2, 2, 2, 2, 2, 2, 2, 2, 2, 2, 2, 2, 2, 2, 2, 3, 3, 3, 3, 3, 3, 3, 3, 3, 3, 3, 3, 3, 3, 3, 3, 3, 3, 3, 3, 3, 3, 3, 3, 3, 3, 3, 3, 3, 3, 3, 3, 3, 3, 3, 3, 3, 3, 3, 3, 3, 3, 3, 3, 3, 3, 3, 3, 3, 3, 3, 3, 3, 3, 3, 3, 3, 3, 3, 3, 3, 3, 3, 3, 3, 3, 3, 3, 3, 3, 3, 3, 3, 3, 3, 3, 3, 3, 3, 3, 3, 3, 3, 3, 3, 3, 3, 3, 3, 3, 3, 3, 3, 3, 3, 3, 3, 3, 3, 3, 3, 3, 3, 3, 3, 3, 3, 3, 3, 3, 3, 3, 3, 3, 3, 3, 3, 3, 3, 3, 3, 3, 3, 3, 3, 3, 3, 3, 3, 3, 3, 3, 3, 3, 3, 3, 3, 3, 3, 3, 3, 3, 3, 3, 3, 3, 3, 3, 3, 3, 3, 3, 3, 3, 3, 3, 3, 3, 3, 3, 3, 3, 3, 3, 3, 3, 3, 3, 3, 3, 3, 3, 3, 3, 4, 4, 4, 4, 4, 4, 4, 4, 4, 4, 4, 4, 4, 4, 4, 4, 4, 4, 4, 4, 4, 4, 4, 4, 4, 4, 4, 4, 4, 4, 4, 4, 4, 4, 4, 4, 4, 4, 4, 4, 4, 4, 4, 4, 4, 4, 4, 4, 4, 4, 4, 4, 4, 4, 4, 4, 4, 4, 4, 4, 4, 4, 4, 4, 4, 4, 4, 4, 4, 4, 4, 4, 4, 4, 4, 4, 4, 4, 4, 4, 4, 4, 4, 4, 4, 4, 4, 4, 4, 4, 4, 4, 4, 4, 4, 4, 4, 4, 4, 4, 4, 4, 4, 4, 4, 4, 4, 4, 4, 4, 4, 4, 4, 4, 4, 4, 4, 4, 4, 4, 4, 4, 4, 4, 4, 4, 4, 4, 4, 4, 4, 4, 4, 4, 4, 4, 4, 4, 4, 4, 4, 4, 4, 4, 4, 4, 4, 4, 4, 4, 4, 4, 4, 4, 4, 4, 4, 4, 4, 4, 4, 4, 4, 4, 4, 4, 4, 4, 4, 4, 4, 4, 4, 4, 4, 4, 4, 4, 4, 4, 4, 4, 4, 4, 4, 4, 4, 4, 4, 4, 4, 4, 4, 4, 4]\n"
     ]
    }
   ],
   "source": [
    "# ファイルから名詞を取り出すと同時に、学習用のラベルを作る。\n",
    "label_train = []\n",
    "\n",
    "for n in range(createNone(\"akuta/in.csv\")):\n",
    "    label_train.append(0)\n",
    "\n",
    "for n in range(createNone(\"izumi/in.csv\")):\n",
    "    label_train.append(1)\n",
    "    \n",
    "for n in range(createNone(\"umino/in.csv\")):\n",
    "    label_train.append(2)\n",
    "\n",
    "for n in range(createNone(\"kisida/in.csv\")):\n",
    "    label_train.append(3)\n",
    "    \n",
    "for n in range(createNone(\"toyosima/in.csv\")):\n",
    "    label_train.append(4)\n",
    "    \n",
    "print(label_train)"
   ]
  },
  {
   "cell_type": "code",
   "execution_count": 285,
   "metadata": {},
   "outputs": [],
   "source": [
    "# 名詞を特徴ベクトルに変換 (BoW)\n",
    "count = CountVectorizer() \n",
    "with open(\"out.csv\") as f:\n",
    "    lines = f.readlines()\n",
    "    bag = count.fit_transform(lines)\n"
   ]
  },
  {
   "cell_type": "code",
   "execution_count": 286,
   "metadata": {},
   "outputs": [],
   "source": [
    "# 単語の関連性を評価(TF-IDF)\n",
    "np.set_printoptions(precision=2)\n",
    "from sklearn.feature_extraction.text import TfidfTransformer\n",
    "tfidf = TfidfTransformer(use_idf=True, norm='l2', smooth_idf=True)\n",
    "data_train = tfidf.fit_transform(count.fit_transform(lines)).toarray()\n"
   ]
  },
  {
   "cell_type": "code",
   "execution_count": 287,
   "metadata": {},
   "outputs": [
    {
     "data": {
      "text/plain": [
       "RandomForestClassifier(bootstrap=True, class_weight=None, criterion='gini',\n",
       "            max_depth=None, max_features='auto', max_leaf_nodes=None,\n",
       "            min_impurity_decrease=0.0, min_impurity_split=None,\n",
       "            min_samples_leaf=1, min_samples_split=2,\n",
       "            min_weight_fraction_leaf=0.0, n_estimators=10, n_jobs=1,\n",
       "            oob_score=False, random_state=None, verbose=0,\n",
       "            warm_start=False)"
      ]
     },
     "execution_count": 287,
     "metadata": {},
     "output_type": "execute_result"
    }
   ],
   "source": [
    "# 学習\n",
    "estimator = RandomForestClassifier(n_estimators=10)\n",
    "estimator.fit(data_train, label_train)\n"
   ]
  },
  {
   "cell_type": "code",
   "execution_count": 288,
   "metadata": {},
   "outputs": [
    {
     "name": "stdout",
     "output_type": "stream",
     "text": [
      "[0 0 0 0 0 0 0 0 0 0 0 0 0 0 0 0 0 0 0 0 0 0 0 0 0 0 0 0 0 0 0 0 0 0 0 0 0\n",
      " 0 0 0 0 0 0 0 0 0 0 0 0 0 0 0 0 0 0 0 0 0 0 0 0 0 0 0 0 0 0 0 0 0 0 0 0 0\n",
      " 0 0 0 0 0 0 0 0 0 3 0 0 0 0 0 0 0 0 0 0 0 0 0 0 0 0 0 0 0 0 0 0 0 0 0 0 0\n",
      " 0 0 0 0 0 0 0 0 0 0 0 0 0 0 0 0 0 0 0 0 0 0 0 0 0 0 0 0 0 0 0 0 0 0 0 0 0\n",
      " 0 0 0 0 0 0 0 0 0 0 0 0 0 0 0 0 0 0 0 0 0 0 0 0 0 0 0 0 0 0 0 0 0 0 0 0 0\n",
      " 0 0 0 0 0 0 0 0 0 0 0 0 0 0 0 1 1 1 1 1 1 1 1 1 1 1 1 1 1 1 1 1 1 1 1 1 1\n",
      " 1 1 1 1 1 1 1 1 1 1 1 1 1 1 1 1 1 1 1 1 1 1 1 1 1 1 1 1 1 1 1 1 1 1 1 1 1\n",
      " 1 1 1 1 1 1 1 1 1 1 1 1 1 1 1 1 1 1 1 1 1 1 1 1 1 1 1 1 1 1 1 1 1 1 1 1 1\n",
      " 1 1 1 1 1 1 1 1 1 1 1 1 1 1 1 1 1 1 1 1 1 1 1 1 1 1 1 1 1 1 1 1 1 1 1 1 1\n",
      " 1 1 1 1 1 1 1 1 1 1 1 1 1 1 1 1 1 1 1 1 1 1 1 1 1 1 1 1 1 1 1 1 1 1 1 1 1\n",
      " 2 2 2 2 2 2 2 2 2 2 2 2 2 2 2 2 2 2 2 2 2 2 2 2 2 2 2 2 2 2 2 2 2 2 2 2 2\n",
      " 2 2 2 2 2 2 2 2 2 2 2 2 2 2 2 2 2 2 2 2 2 2 2 2 2 2 2 2 2 2 2 2 2 2 2 2 2\n",
      " 2 2 2 2 2 2 2 2 2 2 2 2 2 2 2 2 2 2 2 2 2 2 2 2 2 2 2 2 2 2 2 2 2 2 2 2 2\n",
      " 2 2 2 2 2 2 2 2 2 2 2 2 2 2 2 2 2 2 2 2 2 2 2 2 2 2 2 2 2 2 2 2 2 2 2 2 2\n",
      " 2 2 2 2 2 2 2 2 2 2 2 2 2 2 2 2 2 2 2 2 2 3 3 3 3 3 3 3 3 3 3 3 3 3 3 3 3\n",
      " 3 3 3 3 3 3 3 3 3 3 3 3 3 3 3 3 3 3 3 3 3 3 3 3 3 3 3 3 3 3 3 3 3 3 3 3 3\n",
      " 3 3 3 3 3 3 3 3 3 3 3 3 3 3 3 3 3 3 3 3 3 3 3 3 3 3 3 3 3 3 3 3 3 3 3 3 3\n",
      " 3 3 3 3 3 3 3 3 3 3 3 3 3 3 3 3 3 3 3 3 3 3 3 3 3 3 3 3 3 3 3 3 3 3 3 3 3\n",
      " 3 3 3 3 3 3 3 3 3 3 3 3 3 3 3 3 3 3 3 3 3 3 3 3 3 3 3 3 3 3 3 3 3 3 3 3 3\n",
      " 3 3 3 3 3 3 3 3 3 3 4 4 4 4 4 4 4 4 4 4 4 4 4 4 4 4 4 4 4 4 4 4 4 4 4 4 4\n",
      " 4 4 4 4 4 4 4 4 4 4 4 4 4 4 4 4 4 4 4 4 4 4 4 4 4 4 4 4 4 4 4 4 4 4 4 4 4\n",
      " 4 4 4 4 4 4 4 4 4 4 4 4 4 4 4 4 4 4 4 4 4 4 4 4 4 4 4 4 4 4 4 4 4 4 4 4 4\n",
      " 4 4 4 4 4 4 4 4 4 4 4 4 4 4 4 4 4 4 4 4 4 4 4 4 4 4 4 4 4 4 4 4 4 4 4 4 4\n",
      " 4 4 4 4 4 4 4 4 4 4 4 4 4 4 4 4 4 4 4 4 4 4 4 4 4 4 4 4 4 4 4 4 4 4 4 4 4\n",
      " 4 4 4 4 4 4 4 4 4 4 4 4 4 4 4 4 4 4 4 4]\n"
     ]
    }
   ],
   "source": [
    "# 元データを入れて試してみる\n",
    "label_predict = estimator.predict(data_train)\n",
    "print(label_predict)\n"
   ]
  },
  {
   "cell_type": "code",
   "execution_count": 289,
   "metadata": {},
   "outputs": [
    {
     "name": "stdout",
     "output_type": "stream",
     "text": [
      "0.998898678414097\n"
     ]
    }
   ],
   "source": [
    "print(estimator.score(data_train, label_train))"
   ]
  },
  {
   "cell_type": "code",
   "execution_count": 290,
   "metadata": {},
   "outputs": [
    {
     "name": "stdout",
     "output_type": "stream",
     "text": [
      "0.8406593406593407\n"
     ]
    }
   ],
   "source": [
    "# 6割を学習用、 4割を試験用にする\n",
    "data_train_s, data_test_s, label_train_s, label_test_s = train_test_split(data_train, label_train, test_size=0.4)\n",
    "\n",
    "# 学習用に切り出したやつだけで学習\n",
    "estimator.fit(data_train_s, label_train_s)\n",
    "\n",
    "# 予測。正解が分かってる場合は、predict関数じゃなくてこうやると、正解率出してくれる\n",
    "print(estimator.score(data_test_s, label_test_s))"
   ]
  }
 ],
 "metadata": {
  "kernelspec": {
   "display_name": "Python 3",
   "language": "python",
   "name": "python3"
  },
  "language_info": {
   "codemirror_mode": {
    "name": "ipython",
    "version": 3
   },
   "file_extension": ".py",
   "mimetype": "text/x-python",
   "name": "python",
   "nbconvert_exporter": "python",
   "pygments_lexer": "ipython3",
   "version": "3.7.0"
  }
 },
 "nbformat": 4,
 "nbformat_minor": 2
}
